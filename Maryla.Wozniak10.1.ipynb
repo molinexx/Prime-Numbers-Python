{
 "cells": [
  {
   "cell_type": "code",
   "execution_count": null,
   "metadata": {},
   "outputs": [],
   "source": [
    "#1\n",
    "#Ask the user for the number of items they bought.\n",
    "#Also ask the price of each item they bought and quantity purchased.  Display the total amount they owe.\n",
    "\n",
    "count=int(input(\"How many items did you buy?: \"))\n",
    "total=0.00\n",
    "for i in range(1,count+1):\n",
    "    price=float(input(\"Enter price of the item # % d: $\" % i))\n",
    "    quantity=int(input(\"Enter quantity: \"))  \n",
    "    total+=(price*quantity)\n",
    "    \n",
    "print (\"your total is :$ % .2f\" % total)\n",
    "    \n",
    "    \n"
   ]
  },
  {
   "cell_type": "code",
   "execution_count": null,
   "metadata": {},
   "outputs": [],
   "source": [
    "#2\n",
    "#Ask the user for a number n. Calculate 1+2+3+….+n.\n",
    "n=int(input(\"enter positive number:  \"))\n",
    "total=0\n",
    "m=n\n",
    "for i in range (n):\n",
    "    total+=m\n",
    "    m=m-1\n",
    "print (\"total is: \", total)\n",
    "    "
   ]
  },
  {
   "cell_type": "code",
   "execution_count": null,
   "metadata": {
    "scrolled": true
   },
   "outputs": [],
   "source": [
    "#3\n",
    "#Ask the user for a number n.  Calculate 1*2*3*…*n.\n",
    "n=int(input(\"enter positive number:  \"))\n",
    "total=1\n",
    "m=n\n",
    "for i in range (n):\n",
    "    total*=m\n",
    "    m=m-1\n",
    "print (\"total is: \", total)"
   ]
  },
  {
   "cell_type": "code",
   "execution_count": 14,
   "metadata": {
    "scrolled": true
   },
   "outputs": [
    {
     "name": "stdout",
     "output_type": "stream",
     "text": [
      "enter rows: 3\n",
      "enter numbe rof columns: 4\n",
      "****\n",
      "****\n",
      "****\n"
     ]
    }
   ],
   "source": [
    "#4\n",
    "#Ask the user for number of rows (r) and columns (c). Print * for r rows and c columns.\n",
    "rows=int(input(\"enter rows: \"))\n",
    "columns=int(input(\"enter numbe rof columns: \"))\n",
    "for i in range(rows):\n",
    "    for j in range (columns):\n",
    "        print (\"*\",end='')\n",
    "    print()\n",
    "\n"
   ]
  },
  {
   "cell_type": "code",
   "execution_count": 18,
   "metadata": {},
   "outputs": [
    {
     "name": "stdout",
     "output_type": "stream",
     "text": [
      "enter rows: 5\n",
      "*\n",
      "**\n",
      "***\n",
      "****\n",
      "*****\n"
     ]
    }
   ],
   "source": [
    "#5\n",
    "#Ask the user for the number of rows (r). Print * for r rows with each row having as many *s as the row’s number. \n",
    "rows=int(input(\"enter rows: \"))\n",
    "\n",
    "num=0\n",
    "\n",
    "for i in range(rows):\n",
    "    \n",
    "    for j in range (0,num+1):\n",
    "        print(\"*\", end='')\n",
    "    num+=1    \n",
    "    print()\n"
   ]
  },
  {
   "cell_type": "code",
   "execution_count": 29,
   "metadata": {},
   "outputs": [
    {
     "name": "stdout",
     "output_type": "stream",
     "text": [
      "enter rows: 5\n",
      "*\n",
      "**\n",
      "***\n",
      "****\n",
      "*****\n",
      "****\n",
      "***\n",
      "**\n",
      "*\n"
     ]
    }
   ],
   "source": [
    "#6\n",
    "#Modify the code you wrote for the problem above to get the following:\n",
    "#Enter number of rows: 5\n",
    "rows=int(input(\"enter rows: \"))\n",
    "\n",
    "num=0\n",
    "\n",
    "for i in range(rows):\n",
    "    \n",
    "    for j in range (0,num+1):\n",
    "        print(\"*\", end='')\n",
    "    num+=1\n",
    "    print()\n",
    "    \n",
    "for i in range(rows-1):\n",
    "    num-=1\n",
    "    for j in range (0,num):\n",
    "        print(\"*\", end='')   \n",
    "    print()"
   ]
  },
  {
   "cell_type": "code",
   "execution_count": 18,
   "metadata": {},
   "outputs": [
    {
     "name": "stdout",
     "output_type": "stream",
     "text": [
      "0\n",
      "10\n",
      "20\n",
      "30\n",
      "40\n",
      "50\n",
      "60\n",
      "70\n",
      "80\n",
      "90\n",
      "100\n",
      "110\n",
      "120\n",
      "130\n",
      "140\n",
      "150\n",
      "160\n",
      "170\n",
      "180\n",
      "190\n",
      "200\n",
      "210\n",
      "220\n",
      "230\n",
      "240\n",
      "250\n",
      "260\n",
      "270\n",
      "280\n",
      "290\n",
      "300\n",
      "310\n",
      "320\n",
      "330\n",
      "340\n",
      "350\n",
      "360\n",
      "370\n",
      "380\n",
      "390\n",
      "400\n",
      "410\n",
      "420\n",
      "430\n",
      "440\n",
      "450\n",
      "460\n",
      "470\n",
      "480\n",
      "490\n",
      "500\n",
      "510\n",
      "520\n",
      "530\n",
      "540\n",
      "550\n",
      "560\n",
      "570\n",
      "580\n",
      "590\n",
      "600\n",
      "610\n",
      "620\n",
      "630\n",
      "640\n",
      "650\n",
      "660\n",
      "670\n",
      "680\n",
      "690\n",
      "700\n",
      "710\n",
      "720\n",
      "730\n",
      "740\n",
      "750\n",
      "760\n",
      "770\n",
      "780\n",
      "790\n",
      "800\n",
      "810\n",
      "820\n",
      "830\n",
      "840\n",
      "850\n",
      "860\n",
      "870\n",
      "880\n",
      "890\n",
      "900\n",
      "910\n",
      "920\n",
      "930\n",
      "940\n",
      "950\n",
      "960\n",
      "970\n",
      "980\n",
      "990\n",
      "1000\n"
     ]
    }
   ],
   "source": [
    "#7\n",
    "#Write a for loop that displays the following set of numbers: 0, 10, 20, 30, 40, 50 . . . 1000\n",
    "for i in range (0,1010,10):\n",
    "    print (i)"
   ]
  },
  {
   "cell_type": "code",
   "execution_count": 1,
   "metadata": {
    "scrolled": true
   },
   "outputs": [
    {
     "name": "stdout",
     "output_type": "stream",
     "text": [
      "plese enter 10 nubers\n",
      "enter number: 1\n",
      "1\n",
      "enter number: 2\n",
      "3\n",
      "enter number: 3\n",
      "6\n",
      "enter number: 4\n",
      "10\n",
      "enter number: 5\n",
      "15\n",
      "enter number: 6\n",
      "21\n",
      "enter number: 7\n",
      "28\n",
      "enter number: 8\n",
      "36\n",
      "enter number: 9\n",
      "45\n",
      "enter number: 7\n",
      "52\n",
      "**END**\n"
     ]
    }
   ],
   "source": [
    "#8\n",
    "#Ask the user to enter 10 numbers and keep/display a running total of the numbers entered.\n",
    "print(\"plese enter 10 numbers\")\n",
    "total=0\n",
    "for i in range (10):\n",
    "    number=int(input(\"enter number: \"))\n",
    "    total+=number\n",
    "    print (total)\n",
    "print (\"**END**\")\n",
    "\n"
   ]
  },
  {
   "cell_type": "markdown",
   "metadata": {},
   "source": []
  },
  {
   "cell_type": "code",
   "execution_count": 25,
   "metadata": {},
   "outputs": [
    {
     "name": "stdout",
     "output_type": "stream",
     "text": [
      "after  10  minutes you burned  42.0 calories\n",
      "after  15  minutes you burned  63.0 calories\n",
      "after  20  minutes you burned  84.0 calories\n",
      "after  25  minutes you burned  105.0 calories\n",
      "after  30  minutes you burned  126.0 calories\n"
     ]
    }
   ],
   "source": [
    "#9\n",
    "# Running on a particular treadmill you burn 4.2 calories per minute. \n",
    "#Write a program that uses a loop to display the number of calories burned after 10, 15, 20, 25, and 30 minutes.\n",
    "calPerMinute=4.2\n",
    "totalBurned=0\n",
    "for i in range(10,31,5):\n",
    "    totalBurned=(i*calPerMinute)\n",
    "    print (\"after \",i,\" minutes you burned \",totalBurned, \"calories\")\n",
    "    \n",
    "\n"
   ]
  },
  {
   "cell_type": "code",
   "execution_count": 2,
   "metadata": {
    "scrolled": true
   },
   "outputs": [
    {
     "name": "stdout",
     "output_type": "stream",
     "text": [
      "enter positive number: 56\n",
      "28.0\n",
      "14.0\n",
      "7.0\n",
      "22.0\n",
      "11.0\n",
      "34.0\n",
      "17.0\n",
      "52.0\n",
      "26.0\n",
      "13.0\n",
      "40.0\n",
      "20.0\n",
      "10.0\n",
      "5.0\n",
      "16.0\n",
      "8.0\n",
      "4.0\n",
      "2.0\n",
      "1.0\n",
      "Sequence reached  1.0 . Number was divided  14  times, and multiplying  5  times. \n",
      "Program is terminating\n"
     ]
    }
   ],
   "source": [
    "#10\n",
    "#Collatz Sequence:\n",
    "#Let’s look at a simple sequence that has fascinated and foxed mathematicians for many years.\n",
    "#The “computational rule” for creating the sequence is to start from some given n, \n",
    "#and to generate the next term of the sequence from n, either by halving n, (whenever n is even),\n",
    "#or else by multiplying it by three and adding 1 (that is, 3n+1). The sequence terminates when n reaches 1.\n",
    "\n",
    "\n",
    "n=input(\"enter positive number: \")\n",
    "\n",
    "# isnumeric method is preventing user from entering characters and negative numbers...\n",
    "while not n.isnumeric():\n",
    "    n=input(\"Enter  number only: \")\n",
    "    \n",
    "n=int(n) \n",
    "\n",
    "# I am assuming number cannot be negative but looks like entring\n",
    " # negative number into \"unpresices input\" result in program reading it as character anyway....\n",
    "#while n <=0: \n",
    "#    n=int(input(\"Enter non negative number only: \"))\n",
    "multiplying=0\n",
    "dividing=0\n",
    "while n!=1:\n",
    "    m=n%2\n",
    "    if m==0:\n",
    "        n/=2\n",
    "        dividing+=1\n",
    "        print(n) #checking for the calculation sequence \n",
    "    else:\n",
    "        n=n*3+1\n",
    "        multiplying+=1\n",
    "        print(n) #checking for the calculation sequence \n",
    "        \n",
    "print (\"Sequence reached \", n,\". Number was divided \",dividing,\" times, and multiplied \",multiplying,\" times. \")\n",
    "print (\"Program is terminating.\")        \n",
    "\n",
    "        "
   ]
  },
  {
   "cell_type": "code",
   "execution_count": null,
   "metadata": {},
   "outputs": [],
   "source": []
  }
 ],
 "metadata": {
  "kernelspec": {
   "display_name": "Python 3",
   "language": "python",
   "name": "python3"
  },
  "language_info": {
   "codemirror_mode": {
    "name": "ipython",
    "version": 3
   },
   "file_extension": ".py",
   "mimetype": "text/x-python",
   "name": "python",
   "nbconvert_exporter": "python",
   "pygments_lexer": "ipython3",
   "version": "3.7.3"
  }
 },
 "nbformat": 4,
 "nbformat_minor": 2
}
