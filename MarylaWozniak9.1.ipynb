{
 "cells": [
  {
   "cell_type": "code",
   "execution_count": 2,
   "metadata": {
    "scrolled": true
   },
   "outputs": [
    {
     "name": "stdout",
     "output_type": "stream",
     "text": [
      "Enter non negative number: -5\n",
      "Enter  number only: y\n",
      "Enter  number only: -7\n",
      "Enter  number only: 78\n",
      "number is not a prime number.\n"
     ]
    }
   ],
   "source": [
    "#Write a program that asks the user to enter an non-negative integer \n",
    "#and displays whether the number is a prime number or not. \n",
    "\n",
    "#version with while loop\n",
    "\n",
    "number=input(\"Enter non negative number: \")\n",
    "# isnumeric method is preventing user from entering characters and negative numbers...\n",
    "while not number.isnumeric():\n",
    "    number=input(\"Enter  number only: \")\n",
    "    \n",
    "number=int(number)\n",
    "#while number <=0: \n",
    "  #  number=int(input(\"Enter non negative number only: \"))\n",
    "    \n",
    "num=2\n",
    "result=1    \n",
    "while result!=0 and num<number:  \n",
    "    result=number%num   \n",
    "    if result==0:\n",
    "        print(\"number is not a prime number.\")\n",
    "    num+=1   \n",
    "    \n",
    "if result==1:\n",
    "    print(\"number is prime\")\n",
    "\n",
    "        \n",
    "\n",
    "\n",
    "\n"
   ]
  },
  {
   "cell_type": "code",
   "execution_count": 4,
   "metadata": {},
   "outputs": [
    {
     "name": "stdout",
     "output_type": "stream",
     "text": [
      "Enter non negative number: w\n",
      "Enter  number only: r\n",
      "Enter  number only: -8\n",
      "Enter  number only: e\n",
      "Enter  number only: 20\n",
      "20  is not a prime number\n"
     ]
    }
   ],
   "source": [
    "#Write a program that asks the user to enter an non-negative integer \n",
    "#and displays whether the number is a prime number or not. \n",
    "\n",
    "#version with for loop\n",
    "\n",
    "number=input(\"Enter non negative number: \")\n",
    "while not number.isnumeric():\n",
    "    number=input(\"Enter  number only: \")\n",
    "    \n",
    "number=int(number)\n",
    "#while number <=0:\n",
    "   # number=int(input(\"Enter non negative number only: \"))\n",
    "\n",
    "    \n",
    "found=False   \n",
    "num=2\n",
    "result=None\n",
    "\n",
    "#a way to handle numbers like 3,2 and 1\n",
    "if number==1 or number==2 or number==3:\n",
    "    print(number, \" is a prime number!!!.\")\n",
    "\n",
    "else:\n",
    "    for i in range (num,number-1):\n",
    "        result=number%num\n",
    "        if result==0:\n",
    "            found=True\n",
    "        else:\n",
    "            num+=1\n",
    "        \n",
    "    if found:\n",
    "        print (number, \" is not a prime number\")\n",
    "    else:\n",
    "        print(number , \"is a prime number\")\n",
    "  "
   ]
  },
  {
   "cell_type": "code",
   "execution_count": null,
   "metadata": {},
   "outputs": [],
   "source": [
    "#testing isnumeric() method\n",
    "number=input(\"enter number: \")\n",
    "\n",
    "if number.isnumeric():\n",
    "    print (\"ok\")\n",
    "else:\n",
    "    print (\"wrong\")\n",
    "     "
   ]
  }
 ],
 "metadata": {
  "kernelspec": {
   "display_name": "Python 3",
   "language": "python",
   "name": "python3"
  },
  "language_info": {
   "codemirror_mode": {
    "name": "ipython",
    "version": 3
   },
   "file_extension": ".py",
   "mimetype": "text/x-python",
   "name": "python",
   "nbconvert_exporter": "python",
   "pygments_lexer": "ipython3",
   "version": "3.7.3"
  }
 },
 "nbformat": 4,
 "nbformat_minor": 2
}
